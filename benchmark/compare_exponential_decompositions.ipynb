{
 "cells": [
  {
   "cell_type": "code",
   "execution_count": null,
   "metadata": {},
   "outputs": [],
   "source": [
    "from capytaine.Nemoh import Nemoh\n",
    "import capytaine._Green as _G\n",
    "from capytaine.problems import RadiationProblem\n",
    "from capytaine.reference_bodies import generate_dummy_floating_body\n",
    "\n",
    "solver = Nemoh()\n",
    "dummy = generate_dummy_floating_body()\n",
    "pb = RadiationProblem(omega=1.0, sea_bottom=-10.0, body=dummy)"
   ]
  },
  {
   "cell_type": "code",
   "execution_count": null,
   "metadata": {},
   "outputs": [],
   "source": [
    "%timeit _G.initialize_green_2.lisc(pb.dimensionless_omega, pb.dimensionless_wavenumber)"
   ]
  },
  {
   "cell_type": "code",
   "execution_count": null,
   "metadata": {},
   "outputs": [],
   "source": [
    "%timeit solver.get_exponential_decomposition(pb)"
   ]
  },
  {
   "cell_type": "code",
   "execution_count": null,
   "metadata": {},
   "outputs": [],
   "source": [
    "%%prun -l 10\n",
    "for _ in range(1000):\n",
    "    solver.get_exponential_decomposition(pb)"
   ]
  },
  {
   "cell_type": "code",
   "execution_count": null,
   "metadata": {},
   "outputs": [],
   "source": []
  }
 ],
 "metadata": {
  "kernelspec": {
   "display_name": "Python 3",
   "language": "python",
   "name": "python3"
  },
  "language_info": {
   "codemirror_mode": {
    "name": "ipython",
    "version": 3
   },
   "file_extension": ".py",
   "mimetype": "text/x-python",
   "name": "python",
   "nbconvert_exporter": "python",
   "pygments_lexer": "ipython3",
   "version": "3.6.2"
  }
 },
 "nbformat": 4,
 "nbformat_minor": 2
}
